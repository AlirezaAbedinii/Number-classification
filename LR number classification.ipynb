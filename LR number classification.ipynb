{
 "cells": [
  {
   "cell_type": "code",
   "execution_count": 14,
   "id": "sound-package",
   "metadata": {},
   "outputs": [],
   "source": [
    "from sklearn import datasets\n",
    "import numpy as np\n",
    "import pandas as pd\n",
    "import heapq\n",
    "from scipy import stats\n",
    "from sklearn.linear_model import LogisticRegression\n",
    "from sklearn.metrics import confusion_matrix\n",
    "import matplotlib.pyplot as plt\n",
    "from matplotlib.pyplot import figure"
   ]
  },
  {
   "cell_type": "markdown",
   "id": "considerable-whale",
   "metadata": {
    "direction": "rtl"
   },
   "source": [
    "### داده ها خوانده میشود و داخل dataframe ریخته میشود."
   ]
  },
  {
   "cell_type": "code",
   "execution_count": 46,
   "id": "appointed-glossary",
   "metadata": {},
   "outputs": [],
   "source": [
    "mnist = datasets.load_digits()\n",
    "mod_mnist = np.array(mnist.data)\n",
    "mod_mnist = mod_mnist.T\n",
    "pd_mnist = pd.DataFrame(mnist.data)\n",
    "pd_mnist['actual'] = mnist.target"
   ]
  },
  {
   "cell_type": "markdown",
   "id": "korean-cache",
   "metadata": {
    "direction": "rtl"
   },
   "source": [
    "### در این تابع داده ها به دو بخش آموزش و تست با نسبت 20 و 80 تقسیم میشوند"
   ]
  },
  {
   "cell_type": "code",
   "execution_count": 42,
   "id": "acknowledged-platinum",
   "metadata": {},
   "outputs": [],
   "source": [
    "def train_test_split(data):\n",
    "    m = len(data)\n",
    "    train = data.iloc[0:int(0.8*m), :]\n",
    "    test = data.iloc[int(0.8*m): , :]\n",
    "    return train, test"
   ]
  },
  {
   "cell_type": "markdown",
   "id": "insured-bulgarian",
   "metadata": {
    "direction": "rtl"
   },
   "source": [
    "### در این بخش one vs all پیاده سازی شده که به ازای هر label یک مدل logistic regression به صورت one vs all برای آن label خروجی داده میشود."
   ]
  },
  {
   "cell_type": "code",
   "execution_count": 79,
   "id": "chronic-immune",
   "metadata": {},
   "outputs": [],
   "source": [
    "def one_vs_all(X, Y, one_label):\n",
    "    modified_Y = np.reshape(np.array([1*int(y==one_label) for y in Y ]), (1, len(Y)))\n",
    "    clf = LogisticRegression(random_state=0).fit(X, modified_Y.T)\n",
    "    return clf\n",
    "    "
   ]
  },
  {
   "cell_type": "code",
   "execution_count": 57,
   "id": "plain-lightweight",
   "metadata": {},
   "outputs": [],
   "source": [
    "shuffle_data = pd_mnist.sample(frac=1).reset_index(drop=True)\n",
    "train, test = train_dev_test_split(shuffle_data)\n",
    "X_train, Y_train = train.iloc[:, :-1], train.iloc[:, -1]\n",
    "X_test, Y_test = test.iloc[:, :-1], test.iloc[:, -1]"
   ]
  },
  {
   "cell_type": "code",
   "execution_count": 86,
   "id": "amazing-gossip",
   "metadata": {},
   "outputs": [
    {
     "name": "stdout",
     "output_type": "stream",
     "text": [
      "[0, 1, 2, 3, 4, 5, 6, 7, 8, 9]\n"
     ]
    }
   ],
   "source": [
    "import warnings\n",
    "warnings.filterwarnings('ignore')\n",
    "models = {}\n",
    "possible_classes = list(dict.fromkeys(mnist.target))\n",
    "print(possible_classes)\n",
    "for cur_class in possible_classes:\n",
    "    models[cur_class] = one_vs_all(X_train, Y_train, cur_class)\n",
    "    "
   ]
  },
  {
   "cell_type": "code",
   "execution_count": 100,
   "id": "light-european",
   "metadata": {},
   "outputs": [
    {
     "name": "stdout",
     "output_type": "stream",
     "text": [
      "[[5.53779245e-13 1.00000000e+00]]\n"
     ]
    }
   ],
   "source": [
    "print(models[2].predict_proba([np.array(range(64))]))"
   ]
  },
  {
   "cell_type": "markdown",
   "id": "ecological-cover",
   "metadata": {
    "direction": "rtl"
   },
   "source": [
    "### در این بخش بیشترین احتمال برای هر مدل one vs all پیدا میشود و label متناظر با آن به عنوان خروجی داده میشود. "
   ]
  },
  {
   "cell_type": "code",
   "execution_count": 104,
   "id": "reliable-paper",
   "metadata": {},
   "outputs": [],
   "source": [
    "def predict(X):\n",
    "    prob = {}\n",
    "    max_prob, best_class = 0, 0\n",
    "    for cur_class in possible_classes:\n",
    "        temp_prob = models[cur_class].predict_proba(X)[0][1]\n",
    "        if temp_prob > max_prob:\n",
    "            max_prob = temp_prob\n",
    "            best_class = cur_class\n",
    "    return best_class"
   ]
  },
  {
   "cell_type": "markdown",
   "id": "resistant-quarter",
   "metadata": {
    "direction": "rtl"
   },
   "source": [
    "### داده تست و داده آموزشی گرفته میشود و  ماتریس پریشانی و دقت به عنوان خروجی با استفاده از تابع های قبلی برگردانده میشود. "
   ]
  },
  {
   "cell_type": "code",
   "execution_count": 121,
   "id": "working-china",
   "metadata": {},
   "outputs": [],
   "source": [
    "def main_function(X, Y, show_data, print_flag = True):\n",
    "    curr_data = X.copy()\n",
    "    m_data = len(curr_data)\n",
    "    correct = 0\n",
    "    total_predictions = []\n",
    "    ind = 0\n",
    "    for index, raw_row in curr_data.iterrows():\n",
    "        row = raw_row.to_numpy()\n",
    "        predicted = predict([row])\n",
    "        if predicted == Y[ind]:\n",
    "            correct += 1\n",
    "        total_predictions.append(predicted)\n",
    "        ind += 1\n",
    "    error = (m_data - correct)/m_data\n",
    "    if print_flag:\n",
    "        print(str(show_data) + str(error))\n",
    "        print(confusion_matrix(Y, total_predictions, labels=range(len(possible_classes))))\n",
    "    return total_predictions"
   ]
  },
  {
   "cell_type": "code",
   "execution_count": 122,
   "id": "million-drill",
   "metadata": {},
   "outputs": [
    {
     "name": "stdout",
     "output_type": "stream",
     "text": [
      "training data error: 0.0055671537926235215\n",
      "[[143   0   0   0   0   0   0   0   0   0]\n",
      " [  0 147   0   1   0   0   0   0   2   0]\n",
      " [  0   0 137   0   0   0   0   0   0   0]\n",
      " [  0   0   0 149   0   0   0   0   0   0]\n",
      " [  0   0   0   0 141   0   0   0   0   0]\n",
      " [  0   0   0   0   0 141   0   0   0   0]\n",
      " [  0   0   0   0   0   0 140   0   0   0]\n",
      " [  0   0   0   0   0   0   0 147   0   0]\n",
      " [  0   3   0   0   0   0   0   0 138   0]\n",
      " [  0   0   0   1   0   0   0   0   1 146]]\n",
      "test data error: 0.03888888888888889\n",
      "[[34  0  0  0  0  1  0  0  0  0]\n",
      " [ 0 28  0  0  0  0  2  0  2  0]\n",
      " [ 0  1 39  0  0  0  0  0  0  0]\n",
      " [ 0  0  0 34  0  0  0  0  0  0]\n",
      " [ 0  0  0  0 40  0  0  0  0  0]\n",
      " [ 0  0  0  0  0 41  0  0  0  0]\n",
      " [ 0  0  0  0  0  0 41  0  0  0]\n",
      " [ 0  0  0  0  0  0  0 32  0  0]\n",
      " [ 0  4  0  1  0  0  0  0 27  1]\n",
      " [ 0  0  0  0  0  1  0  0  1 30]]\n"
     ]
    },
    {
     "data": {
      "text/plain": [
       "''"
      ]
     },
     "execution_count": 122,
     "metadata": {},
     "output_type": "execute_result"
    }
   ],
   "source": [
    "main_function(X_train, Y_train.to_numpy(), \"training data error: \")\n",
    "main_function(X_test, Y_test.to_numpy(), \"test data error: \")\n",
    ";"
   ]
  },
  {
   "cell_type": "markdown",
   "id": "infectious-audit",
   "metadata": {
    "direction": "rtl"
   },
   "source": [
    "### مقادیر پیش بینی شده و مقادیر واقعی را میگیرد و شکل آن را ترسیم میکند"
   ]
  },
  {
   "cell_type": "code",
   "execution_count": 126,
   "id": "governmental-prospect",
   "metadata": {},
   "outputs": [],
   "source": [
    "def show_graph(raw_pixels, y_org, y_pred):\n",
    "    fig, axis = plt.subplots(5, 5)\n",
    "    column_counter = 0\n",
    "    for i in range(len(raw_pixels)):\n",
    "        row = raw_pixels[i, :-1]\n",
    "        pixels = row.reshape(8, 8)\n",
    "        column_counter = column_counter % 5\n",
    "        axis[int(i/5), column_counter].imshow(pixels, cmap='gray')\n",
    "        axis[int(i/5), column_counter].set_title('y_org:'+ str(y_org[i])+ ', y_pred:' + str(int(y_pred[i])) )\n",
    "        column_counter += 1\n",
    "        fig.set_size_inches(22.5, 15.5)\n",
    "    plt.subplots_adjust(left=0.2, bottom=0.03, right=0.9, top=0.9, wspace=0.5,\n",
    "                    hspace=0.85)\n",
    "    plt.show()"
   ]
  },
  {
   "cell_type": "code",
   "execution_count": 128,
   "id": "international-metro",
   "metadata": {},
   "outputs": [
    {
     "data": {
      "image/png": "[encoded data removed]",
      "text/plain": [
       "<Figure size 1620x1116 with 25 Axes>"
      ]
     },
     "metadata": {
      "needs_background": "light"
     },
     "output_type": "display_data"
    }
   ],
   "source": [
    "test_sample = test.iloc[0:25, :]\n",
    "X_sample = X_test.iloc[0:25, :]\n",
    "Y_sample = Y_test.iloc[0:25]\n",
    "sample_predictions = main_function(X_sample, Y_sample.to_numpy(), \"\", False)\n",
    "show_graph(test_sample.to_numpy(), Y_sample.to_numpy(), sample_predictions)"
   ]
  },
  {
   "cell_type": "markdown",
   "id": "charitable-withdrawal",
   "metadata": {
    "direction": "rtl"
   },
   "source": [
    "# ج\n",
    "### روش k نزدیکترین همسایه هم خطای آموزش و هم خطای تست کمتری از این روش داشت.\n",
    "### خطای آموزش و تست به ترتیب در k نزدیکترین همسایه برابر با 0.0039 و 0.027 بود ولی در این روش به ترتیب 0.05 و 0.038 است.\n",
    "### پس روش k نزدیکترین همسایه از روش logistic regression (با این پیاده سازی) روی دیتاست mnist بهتر عمل میکند"
   ]
  },
  {
   "cell_type": "markdown",
   "id": "israeli-painting",
   "metadata": {
    "direction": "rtl"
   },
   "source": [
    "# د\n",
    "### یکی از مشکلاتی که میتواند پیش بیاید در این مشکل نا متوازن شدن است. برای مثال اگر تعداد کلاس ها 5 تا باشد و داده ها بصورت متوازن نیست پخش شده باشند. هر classifier با نسبت داده 80 به 20 مواجه میشود. پس اگر تعداد کلاس ها از این تعداد بیشتر شود یا داده ها نامتوازن شوند به این ترتیب دسته بند های one-vs-all با کلاس های نامتوازن روبرو خواهند شد. برای حل این مشکل میتوان از روش one-vs-one  استفاده کرد که هر دوتایی را با هم مقایسه میکند و دیگر به این مشکل نمیخوریم اگر خود داده های اولیه نامتوازن نباشند."
   ]
  }
 ],
 "metadata": {
  "kernelspec": {
   "display_name": "Python 3",
   "language": "python",
   "name": "python3"
  },
  "language_info": {
   "codemirror_mode": {
    "name": "ipython",
    "version": 3
   },
   "file_extension": ".py",
   "mimetype": "text/x-python",
   "name": "python",
   "nbconvert_exporter": "python",
   "pygments_lexer": "ipython3",
   "version": "3.7.2"
  }
 },
 "nbformat": 4,
 "nbformat_minor": 5
}
